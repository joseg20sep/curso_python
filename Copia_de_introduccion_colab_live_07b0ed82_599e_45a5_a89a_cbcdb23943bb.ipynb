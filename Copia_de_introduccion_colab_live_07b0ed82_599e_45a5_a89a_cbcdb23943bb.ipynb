{
  "nbformat": 4,
  "nbformat_minor": 0,
  "metadata": {
    "colab": {
      "name": "Copia de introduccion_colab_live_07b0ed82-599e-45a5-a89a-cbcdb23943bb.ipynb",
      "provenance": [],
      "collapsed_sections": [],
      "include_colab_link": true
    },
    "kernelspec": {
      "display_name": "Python 3",
      "name": "python3"
    },
    "language_info": {
      "name": "python"
    }
  },
  "cells": [
    {
      "cell_type": "markdown",
      "metadata": {
        "id": "view-in-github",
        "colab_type": "text"
      },
      "source": [
        "<a href=\"https://colab.research.google.com/github/joseg20sep/curso_python/blob/main/Copia_de_introduccion_colab_live_07b0ed82_599e_45a5_a89a_cbcdb23943bb.ipynb\" target=\"_parent\"><img src=\"https://colab.research.google.com/assets/colab-badge.svg\" alt=\"Open In Colab\"/></a>"
      ]
    },
    {
      "cell_type": "markdown",
      "metadata": {
        "id": "VX4AXt1z06p7"
      },
      "source": [
        "# Introducción a Google Colaboratory\n",
        "\n",
        "\n",
        "\n"
      ]
    },
    {
      "cell_type": "markdown",
      "metadata": {
        "id": "3w9hDmeT1RFc"
      },
      "source": [
        "## Ejecución y edición de celdas"
      ]
    },
    {
      "cell_type": "markdown",
      "metadata": {
        "id": "kVycw82U1SNU"
      },
      "source": [
        "### Celdas de código"
      ]
    },
    {
      "cell_type": "code",
      "metadata": {
        "id": "pmj63Cv01Smg",
        "colab": {
          "base_uri": "https://localhost:8080/"
        },
        "outputId": "9a0ba220-e65c-4204-cd2f-2b5ed59da873"
      },
      "source": [
        "1 + 2"
      ],
      "execution_count": null,
      "outputs": [
        {
          "output_type": "execute_result",
          "data": {
            "text/plain": [
              "3"
            ]
          },
          "metadata": {},
          "execution_count": 1
        }
      ]
    },
    {
      "cell_type": "markdown",
      "metadata": {
        "id": "BizkQMEJ1bFT"
      },
      "source": [
        "### Celdas de texto"
      ]
    },
    {
      "cell_type": "markdown",
      "metadata": {
        "id": "o1RZy_-O2qwR"
      },
      "source": [
        "*texto en cursiva*#### Texto enriquericido\n",
        "\n",
        "\n",
        "\n",
        "\n"
      ]
    },
    {
      "cell_type": "markdown",
      "metadata": {
        "id": "-OXWFW_u2rNL"
      },
      "source": [
        "#### Imágenes o gifs"
      ]
    },
    {
      "cell_type": "markdown",
      "metadata": {
        "id": "k-Ui7NLh1bLf"
      },
      "source": [
        "![link text](https://media.giphy.com/media/6aGXQxkohixag/giphy.gif)"
      ]
    },
    {
      "cell_type": "markdown",
      "metadata": {
        "id": "RrNr7t6F1bP8"
      },
      "source": [
        "## Variables"
      ]
    },
    {
      "cell_type": "code",
      "metadata": {
        "id": "3jaRCHkS1bTf"
      },
      "source": [
        "variable = \"eres increible\""
      ],
      "execution_count": null,
      "outputs": []
    },
    {
      "cell_type": "code",
      "metadata": {
        "id": "HiN7Chx11bWf"
      },
      "source": [
        "print(variable)"
      ],
      "execution_count": null,
      "outputs": []
    },
    {
      "cell_type": "markdown",
      "metadata": {
        "id": "RMzLQ0KF1bZY"
      },
      "source": [
        "## Línea de comandos"
      ]
    },
    {
      "cell_type": "code",
      "metadata": {
        "id": "diJyGyWw3392",
        "colab": {
          "base_uri": "https://localhost:8080/"
        },
        "outputId": "61f2b05f-76e6-47b9-afd5-25ed4463e1af"
      },
      "source": [
        "!pwd\n",
        "!ls\n",
        "\n",
        "\n"
      ],
      "execution_count": null,
      "outputs": [
        {
          "output_type": "stream",
          "name": "stdout",
          "text": [
            "/content\n",
            "sample_data\n"
          ]
        }
      ]
    },
    {
      "cell_type": "markdown",
      "metadata": {
        "id": "IcPvNSH64OGR"
      },
      "source": [
        "## Instalación de librerías"
      ]
    },
    {
      "cell_type": "code",
      "metadata": {
        "id": "_q-ajRSrFK1Q",
        "colab": {
          "base_uri": "https://localhost:8080/"
        },
        "outputId": "6160395e-0614-4780-9f15-5800009fddf3"
      },
      "source": [
        "!pip install session-info"
      ],
      "execution_count": null,
      "outputs": [
        {
          "output_type": "stream",
          "name": "stdout",
          "text": [
            "Collecting session-info\n",
            "  Downloading session_info-1.0.0.tar.gz (24 kB)\n",
            "Collecting stdlib_list\n",
            "  Downloading stdlib_list-0.8.0-py3-none-any.whl (63 kB)\n",
            "\u001b[K     |████████████████████████████████| 63 kB 1.5 MB/s \n",
            "\u001b[?25hBuilding wheels for collected packages: session-info\n",
            "  Building wheel for session-info (setup.py) ... \u001b[?25l\u001b[?25hdone\n",
            "  Created wheel for session-info: filename=session_info-1.0.0-py3-none-any.whl size=8045 sha256=2a3d6932e564142b277bfa3dc96338062d45b67f249b1514b8f44248d8f0df3c\n",
            "  Stored in directory: /root/.cache/pip/wheels/bd/ad/14/6a42359351a18337a8683854cfbba99dd782271f2d1767f87f\n",
            "Successfully built session-info\n",
            "Installing collected packages: stdlib-list, session-info\n",
            "Successfully installed session-info-1.0.0 stdlib-list-0.8.0\n"
          ]
        }
      ]
    },
    {
      "cell_type": "code",
      "metadata": {
        "id": "EvgpUkAGG1hH"
      },
      "source": [
        "import session_info"
      ],
      "execution_count": null,
      "outputs": []
    },
    {
      "cell_type": "code",
      "metadata": {
        "id": "XXW_W6F4JjzN",
        "colab": {
          "base_uri": "https://localhost:8080/",
          "height": 278
        },
        "outputId": "ecfe8086-10fb-46cb-edda-c85da599aebd"
      },
      "source": [
        "session_info.show()"
      ],
      "execution_count": null,
      "outputs": [
        {
          "output_type": "execute_result",
          "data": {
            "text/html": [
              "<details>\n",
              "<summary>Click to view session information</summary>\n",
              "<pre>\n",
              "-----\n",
              "session_info        1.0.0\n",
              "-----\n",
              "</pre>\n",
              "<details>\n",
              "<summary>Click to view modules imported as dependencies</summary>\n",
              "<pre>\n",
              "PIL                         7.1.2\n",
              "astor                       0.8.1\n",
              "bottleneck                  1.3.2\n",
              "cffi                        1.15.0\n",
              "cycler                      0.10.0\n",
              "cython_runtime              NA\n",
              "dateutil                    2.8.2\n",
              "debugpy                     1.0.0\n",
              "decorator                   4.4.2\n",
              "google                      NA\n",
              "ipykernel                   4.10.1\n",
              "ipython_genutils            0.2.0\n",
              "ipywidgets                  7.6.5\n",
              "kiwisolver                  1.3.2\n",
              "matplotlib                  3.2.2\n",
              "mpl_toolkits                NA\n",
              "numpy                       1.19.5\n",
              "pandas                      1.1.5\n",
              "pexpect                     4.8.0\n",
              "pickleshare                 0.7.5\n",
              "pkg_resources               NA\n",
              "portpicker                  NA\n",
              "prompt_toolkit              1.0.18\n",
              "psutil                      5.4.8\n",
              "ptyprocess                  0.7.0\n",
              "pydev_ipython               NA\n",
              "pydevconsole                NA\n",
              "pydevd                      2.0.0\n",
              "pydevd_concurrency_analyser NA\n",
              "pydevd_file_utils           NA\n",
              "pydevd_plugins              NA\n",
              "pydevd_tracing              NA\n",
              "pygments                    2.6.1\n",
              "pyparsing                   3.0.6\n",
              "pytz                        2018.9\n",
              "simplegeneric               NA\n",
              "sitecustomize               NA\n",
              "six                         1.15.0\n",
              "sphinxcontrib               NA\n",
              "storemagic                  NA\n",
              "tornado                     5.1.1\n",
              "traitlets                   5.1.1\n",
              "wcwidth                     0.2.5\n",
              "zmq                         22.3.0\n",
              "</pre>\n",
              "</details> <!-- seems like this ends pre, so might as well be explicit -->\n",
              "<pre>\n",
              "-----\n",
              "IPython             5.5.0\n",
              "jupyter_client      5.3.5\n",
              "jupyter_core        4.9.1\n",
              "notebook            5.3.1\n",
              "-----\n",
              "Python 3.7.12 (default, Sep 10 2021, 00:21:48) [GCC 7.5.0]\n",
              "Linux-5.4.104+-x86_64-with-Ubuntu-18.04-bionic\n",
              "-----\n",
              "Session information updated at 2021-11-30 17:37\n",
              "</pre>\n",
              "</details>"
            ],
            "text/plain": [
              "<IPython.core.display.HTML object>"
            ]
          },
          "metadata": {},
          "execution_count": 14
        }
      ]
    },
    {
      "cell_type": "markdown",
      "metadata": {
        "id": "bfbnB1rw437K"
      },
      "source": [
        "### Ciencia de datos"
      ]
    },
    {
      "cell_type": "markdown",
      "metadata": {
        "id": "Zh3EV2drAyRE"
      },
      "source": [
        "### Subir archivos"
      ]
    },
    {
      "cell_type": "code",
      "metadata": {
        "id": "o2zBdfYDAwoT"
      },
      "source": [
        ""
      ],
      "execution_count": null,
      "outputs": []
    },
    {
      "cell_type": "markdown",
      "metadata": {
        "id": "tWT-hVeekJ7Y"
      },
      "source": [
        "### Librerías para Ciencia de Datos\n",
        "\n",
        "- 📊 **matplotlib**: Generación de gráficos a partir de listas o arrays.\n",
        "- 🧑‍💻 **numpy**: Cómputo científico para la manipulación de vectores.\n",
        "- 🧑‍💻 **pandas**: Manipulación y análisis de datos de tablas y series temporales.\n",
        "- 🧑‍💻 **scipy**: Herramientas y algoritmos matemáticos.\n",
        "- 📊 **seaborn**: Visualización de datos estadísticos."
      ]
    },
    {
      "cell_type": "code",
      "metadata": {
        "id": "ARjmm8iZkKGG"
      },
      "source": [
        "import matplotlib.pyplot as plt\n",
        "import numpy as np\n",
        "import pandas as pd\n",
        "import scipy as sc\n",
        "import seaborn as sns"
      ],
      "execution_count": null,
      "outputs": []
    },
    {
      "cell_type": "markdown",
      "metadata": {
        "id": "EMnwCNzMkKTd"
      },
      "source": [
        "### Gráficas"
      ]
    },
    {
      "cell_type": "code",
      "metadata": {
        "id": "YRzwKWVPrsv2"
      },
      "source": [
        "# load an example dataset\n",
        "from vega_datasets import data\n",
        "cars = data.cars()\n",
        "\n",
        "# plot the dataset, referencing dataframe column names\n",
        "import altair as alt\n",
        "alt.Chart(cars).mark_bar().encode(\n",
        "  x=alt.X('Miles_per_Gallon', bin=True),\n",
        "  y='count()',\n",
        ")"
      ],
      "execution_count": null,
      "outputs": []
    },
    {
      "cell_type": "markdown",
      "metadata": {
        "id": "MvJKNGhb8pP8"
      },
      "source": [
        "## Atajos de teclado"
      ]
    }
  ]
}